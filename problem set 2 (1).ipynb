{
 "cells": [
  {
   "cell_type": "markdown",
   "id": "4aad247d",
   "metadata": {},
   "source": [
    "# Question 1\n",
    "a = 0\n",
    "def b():\n",
    " global a\n",
    " a = c(a)\n",
    "def c(a):\n",
    " return a + 2\n",
    "After importing the module into the interpreter, you execute:\n",
    ">>> b()        \n",
    ">>> b()\n",
    ">>> b()\n",
    ">>> a\n",
    "?\n",
    "What value is displayed when the last expression (a) is evaluated? Explain your \n",
    "answer by indicating what happens in every executed statement# "
   ]
  },
  {
   "cell_type": "code",
   "execution_count": 2,
   "id": "2c6647c0",
   "metadata": {},
   "outputs": [
    {
     "name": "stdout",
     "output_type": "stream",
     "text": [
      "the latest updated expression of a =  6\n"
     ]
    }
   ],
   "source": [
    "a = 0       #creating varibale a\n",
    "def b():    #defining variable b\n",
    " global a   #global variable a\n",
    " a = c(a)   #stating a equals c into a\n",
    "\n",
    "def c(a):   #defining variable c(a)\n",
    " return a + 2   #returning a+2\n",
    "\n",
    "b()     #calling the value of b three times\n",
    "b()     \n",
    "b()     \n",
    "a      \n",
    "print(\"the latest updated expression of a = \",a)    #printing the latest expression of a"
   ]
  },
  {
   "cell_type": "markdown",
   "id": "32bdf8fc",
   "metadata": {},
   "source": [
    "# Question 2 \n",
    "Function fileLength(), given to you, takes the name of a file as input and returns \n",
    "the length of the file:\n",
    ">>> fileLength('midterm.py')\n",
    "284\n",
    ">>> fileLength('idterm.py')\n",
    "Traceback (most recent call last):\n",
    "File \"<pyshell#34>\", line 1, in <module>\n",
    " fileLength('idterm.py')\n",
    "File \"/Users/me/midterm.py\", line 3, in fileLength\n",
    " infile = open(filename)\n",
    "FileNotFoundError: [Errno 2] No such file or directory: \n",
    "'idterm.py'\n",
    "As shown above, if the file cannot be found by the interpreter or if it cannot be read \n",
    "as a text file, an exception will be raised. Modify function fileLength() so that a \n",
    "friendly message is printed instead:\n",
    ">>> fileLength('midterm.py')\n",
    "358\n",
    ">>> fileLength('idterm.py')\n",
    "File idterm.py not found.\n"
   ]
  },
  {
   "cell_type": "code",
   "execution_count": 4,
   "id": "035a7d51",
   "metadata": {
    "scrolled": true
   },
   "outputs": [
    {
     "name": "stdout",
     "output_type": "stream",
     "text": [
      "\n",
      "checking file filelenght\n",
      "\n",
      "File C:\\Users\\hniro\\OneDrive\\Desktop\\BDAT\\DATA PROGRAMMING (LS)\\quiz 5\\4.py found\n",
      "\n",
      "the file length =  463\n",
      "None\n",
      "\n",
      " if file idterm.py is present or not...\n",
      "\n",
      "error: file idterm.py not found\n"
     ]
    }
   ],
   "source": [
    "def file_length(file_name):   \n",
    "    try:\n",
    "        file = open(file_name)\n",
    "        contents = file.read()\n",
    "        file.close()\n",
    "        print(\"File \"+file_name+\" found\")\n",
    "        print(\"\\nthe file length = \",len(contents))\n",
    "    except FileNotFoundError:\n",
    "        return \"error: file \"+file_name+\" not found\"\n",
    "\n",
    "#if file is present in the folder :\n",
    "print(\"\\nchecking file filelenght\\n\")\n",
    "print(file_length('C:\\\\Users\\\\hniro\\\\OneDrive\\\\Desktop\\\\BDAT\\\\DATA PROGRAMMING (LS)\\\\quiz 5\\\\4.py'))\n",
    "\n",
    "#if file is not present in  the folder :\n",
    "print(\"\\n if file idterm.py is present or not...\\n\")\n",
    "print(file_length('idterm.py'))"
   ]
  },
  {
   "cell_type": "markdown",
   "id": "079f642e",
   "metadata": {},
   "source": [
    "# Question 3\n",
    "Write a class named Marsupial that can be used as shown below:\n",
    ">>> m = Marsupial()\n",
    ">>> m.put_in_pouch('doll')\n",
    ">>> m.put_in_pouch('firetruck')\n",
    ">>> m.put_in_pouch('kitten')\n",
    ">>> m.pouch_contents()\n",
    "['doll', 'firetruck', 'kitten']\n",
    "Now write a class named Kangaroo as a subclass of Marsupial that inherits all the \n",
    "attributes of Marsupial and also:\n",
    "a. extends the Marsupial __init__ constructor to take, as input, the \n",
    "coordinates x and y of the Kangaroo object,\n",
    "b. supports method jump that takes number values dx and dy as input and \n",
    "moves the kangaroo by dx units along the x-axis and by dy units along the y\u0002axis, and\n",
    "c. overloads the __str__ operator so it behaves as shown below.\n",
    ">>> k = Kangaroo(0,0)\n",
    ">>> print(k)\n",
    "I am a Kangaroo located at coordinates (0,0)\n",
    ">>> k.put_in_pouch('doll')\n",
    ">>> k.put_in_pouch('firetruck')\n",
    ">>> k.put_in_pouch('kitten')\n",
    ">>> k.pouch_contents()\n",
    "['doll', 'firetruck', 'kitten']\n",
    ">>> k.jump(1,0)\n",
    ">>> k.jump(1,0)\n",
    ">>> k.jump(1,0)\n",
    ">>> print(k)\n",
    "I am a Kangaroo located at coordinates (3,0)\n"
   ]
  },
  {
   "cell_type": "code",
   "execution_count": 5,
   "id": "54772234",
   "metadata": {},
   "outputs": [
    {
     "name": "stdout",
     "output_type": "stream",
     "text": [
      "class Marsupial contains : ['doll', 'firetruck', 'kitten'] \n",
      "\n",
      "I am a Kangaroo located at the coordinates (0,0)\n",
      "\n",
      "subclass kangaroo contains :  ['doll', 'firetruck', 'kitten', 'doll', 'firetruck', 'kitten'] \n",
      "\n",
      "I am a Kangaroo located at the coordinates (3,0)\n",
      "\n"
     ]
    }
   ],
   "source": [
    "class Marsupial:\n",
    "    lst=[]\n",
    "    def init(self): \n",
    "        self.lst = []\n",
    "        \n",
    "    def put_in_pouch(self, item):\n",
    "        self.lst.append(item)\n",
    "        \n",
    "    def pouch_contents(self):\n",
    "        return self.lst\n",
    "\n",
    "class Kangaroo(Marsupial):\n",
    "\n",
    "    def __init__(self,a,b):\n",
    "\n",
    "            Marsupial.__init__(self)\n",
    "\n",
    "            self.a = a\n",
    "\n",
    "            self.b = b\n",
    "\n",
    "    def jump(self,da,db):\n",
    "\n",
    "        self.a += da\n",
    "\n",
    "        self.b += db\n",
    "\n",
    "    def __str__(self):\n",
    "\n",
    "        return 'I am a Kangaroo located at the coordinates ({},{})'.format(self.a,self.b)+'\\n'\n",
    "\n",
    "m = Marsupial() \n",
    "m.put_in_pouch('doll') \n",
    "m.put_in_pouch('firetruck') \n",
    "m.put_in_pouch('kitten') \n",
    "print(\"class Marsupial contains :\",m.pouch_contents(),\"\\n\")\n",
    "\n",
    "k = Kangaroo(0,0) \n",
    "print(k) \n",
    "k.put_in_pouch('doll')\n",
    "k.put_in_pouch('firetruck') \n",
    "k.put_in_pouch('kitten') \n",
    "print(\"subclass kangaroo contains : \",k.pouch_contents(),\"\\n\") \n",
    "k.jump(1,0) \n",
    "k.jump(1,0)\n",
    "k.jump(1,0)\n",
    "print(k)"
   ]
  },
  {
   "cell_type": "markdown",
   "id": "1ab4d403",
   "metadata": {},
   "source": [
    "# Question 4\n",
    "Write function collatz() that takes a positive integer x as input and prints the \n",
    "Collatz sequence starting at x. A Collatz sequence is obtained by repeatedly applying \n",
    "this rule to the previous number x in the sequence:\n",
    "x = {\n",
    "𝑥/2 𝑖𝑓 𝑥 𝑖𝑠 𝑒𝑣𝑒𝑛\n",
    "3𝑥 + 1 𝑖𝑓 𝑥 𝑖𝑠 𝑜𝑑𝑑\n",
    "Your function should stop when the sequence gets to number 1. Your \n",
    "implementation must be recursive, without any loops.\n",
    ">>> collatz(1)\n",
    "1\n",
    ">>> collatz(10)\n",
    "10\n",
    "5\n",
    "16\n",
    "8\n",
    "4\n",
    "2\n",
    "1"
   ]
  },
  {
   "cell_type": "code",
   "execution_count": 6,
   "id": "f6bbba1d",
   "metadata": {},
   "outputs": [
    {
     "name": "stdout",
     "output_type": "stream",
     "text": [
      "enter a positive interger: 12\n",
      "12\n",
      "6\n",
      "3\n",
      "10\n",
      "5\n",
      "16\n",
      "8\n",
      "4\n",
      "2\n",
      "1\n"
     ]
    }
   ],
   "source": [
    "def collatz(x):\n",
    "    print(x)\n",
    "    if x==1:\n",
    "        return\n",
    "    elif x%2==0:\n",
    "        return collatz(x//2)  \n",
    "    else:\n",
    "        return collatz((x*3)+1)\n",
    "\n",
    "x=int(input(\"enter a positive interger: \"))\n",
    "collatz(x)"
   ]
  },
  {
   "cell_type": "markdown",
   "id": "4403e4d7",
   "metadata": {},
   "source": [
    "# Question 5\n",
    "Write a recursive method binary() that takes a non-negative \n",
    "integer n and prints the binary representation of integer n.\n",
    ">>> binary(0)\n",
    "0\n",
    ">>> binary(1)\n",
    "1\n",
    ">>> binary(3)\n",
    "11\n",
    ">>> binary(9)\n",
    "1001"
   ]
  },
  {
   "cell_type": "code",
   "execution_count": 7,
   "id": "dd9b36fe",
   "metadata": {},
   "outputs": [
    {
     "name": "stdout",
     "output_type": "stream",
     "text": [
      "enter an positive integer : 15\n",
      "the number in binary representation =  1111\n"
     ]
    }
   ],
   "source": [
    "def binary( n ):\n",
    "    if n == 0:\n",
    "        return 0\n",
    "    else:\n",
    "       \n",
    "        return  n % 2 + 10 * binary(int(n // 2))\n",
    "\n",
    "n = int(input(\"enter an positive integer : \"))\n",
    "print(\"the number in binary representation = \",binary(n))"
   ]
  },
  {
   "cell_type": "markdown",
   "id": "c38ed065",
   "metadata": {},
   "source": [
    "# Question 6\n",
    "Implement a class named HeadingParser that can be used to parse an HTML \n",
    "document, and retrieve and print all the headings in the document. You should \n",
    "implement your class as a subclass of HTMLParser, defined in Standard Library \n",
    "module html.parser. When fed a string containing HTML code, your class should \n",
    "print the headings, one per line and in the order in which they appear in the \n",
    "document. Each heading should be indented as follows: an h1 heading should have indentation 0, and h2 heading should have indentation 1, etc. Test your \n",
    "implementation using w3c.html.\n",
    ">>> infile = open('w3c.html')\n",
    ">>> content = infile.read()\n",
    ">>> infile.close()\n",
    ">>> hp = HeadingParser()\n",
    ">>> hp.feed(content)\n",
    "W3C Mission\n",
    "Principles"
   ]
  },
  {
   "cell_type": "code",
   "execution_count": 16,
   "id": "49559782",
   "metadata": {},
   "outputs": [
    {
     "name": "stdout",
     "output_type": "stream",
     "text": [
      "W3C Mission\n",
      "\n",
      "\t\n",
      " Principles\n",
      " \n",
      " \n",
      "\n",
      "\n",
      "\n",
      " \n",
      "\n"
     ]
    }
   ],
   "source": [
    "import re\n",
    "from html.parser import HTMLParser\n",
    "infile = open('C:\\\\Users\\\\hniro\\\\OneDrive\\\\Desktop\\\\BDAT\\\\DATA PROGRAMMING (LS)\\\\problem set 2\\\\w3c.html','r') \n",
    "content = infile.read() \n",
    "infile.close()\n",
    "\n",
    "class HeadingParser(HTMLParser):\n",
    "    def handle_starttag(self, tag, attrs):\n",
    "        global getHeading\n",
    "        match = re.match(r'h(\\d)', tag, re.I) \n",
    "        if match: getHeading = int(match.group(1))\n",
    "            \n",
    "    def handle_endtag(self, tag):\n",
    "        match = re.match(r'h(\\d)', tag, re.I)\n",
    "        if match: getHeading = 0\n",
    "\n",
    "    def handle_data(self, data):\n",
    "        if getHeading > 0:\n",
    "            tab = getHeading - 1\n",
    "            out = \" \"*tab\n",
    "            print(out+data)\n",
    "            \n",
    "getHeading = 0\n",
    "hp = HeadingParser()\n",
    "hp.feed(content)"
   ]
  },
  {
   "cell_type": "markdown",
   "id": "1511e4cf",
   "metadata": {},
   "source": [
    "# Question 7\n",
    "\n",
    "Implement recursive function webdir() that takes as input: a URL (as a string) and \n",
    "non-negative integers depth and indent. Your function should visit every web \n",
    "page reachable from the starting URL web page in depth clicks or less, and print \n",
    "each web page's URL. As shown below, indentation, specified by indent, should \n",
    "be used to indicate the depth of a URL.\n",
    ">>> \n",
    "webdir('http://reed.cs.depaul.edu/lperkovic/csc242/test1.html'\n",
    ", 2, 0)\n",
    "http://reed.cs.depaul.edu/lperkovic/csc242/test1.html\n",
    " http://reed.cs.depaul.edu/lperkovic/csc242/test2.html\n",
    " http://reed.cs.depaul.edu/lperkovic/csc242/test4.html\n",
    " http://reed.cs.depaul.edu/lperkovic/csc242/test3.html\n",
    " http://reed.cs.depaul.edu/lperkovic/csc242/test4.html"
   ]
  },
  {
   "cell_type": "code",
   "execution_count": 10,
   "id": "022fd68a",
   "metadata": {},
   "outputs": [
    {
     "name": "stdout",
     "output_type": "stream",
     "text": [
      "http://reed.cs.depaul.edu/lperkovic/csc242/test1.html\n"
     ]
    }
   ],
   "source": [
    "import requests\n",
    "\n",
    "from bs4 import BeautifulSoup   \n",
    "\n",
    "def webdir(url, depth, indent):\n",
    "    resp = requests.get(url)\n",
    "    print(url)\n",
    "    if(depth == indent):\n",
    "        return\n",
    "    soup = BeautifulSoup(resp.text, 'html.parser')  \n",
    "    for link in soup.findAll('a'):\n",
    "        new_link = link.get('href')\n",
    "        if(new_link.startswith('https')):\n",
    "            webdir(new_link, depth, indent+1)\n",
    "\n",
    "webdir('http://reed.cs.depaul.edu/lperkovic/csc242/test1.html', 2, 0)"
   ]
  },
  {
   "cell_type": "markdown",
   "id": "00125b2b",
   "metadata": {},
   "source": [
    "# Question 8\n",
    "Write SQL queries on the below database table that return: \n",
    "a) All the temperature data.\n",
    "b) All the cities, but without repetition.\n",
    "c) All the records for India.\n",
    "d) All the Fall records.\n",
    "e) The city, country, and season for which the average rainfall is between 200 \n",
    "and 400 millimeters.\n",
    "f) The city and country for which the average Fall temperature is above 20 \n",
    "degrees, in increasing temperature order.\n",
    "g) The total annual rainfall for Cairo.\n",
    "h) The total rainfall for each season.\n"
   ]
  },
  {
   "cell_type": "code",
   "execution_count": null,
   "id": "bcf33a25",
   "metadata": {},
   "outputs": [],
   "source": [
    "# a: all the Temperature data\n",
    "%%sql\n",
    "select Temperature from weatherTable"
   ]
  },
  {
   "cell_type": "code",
   "execution_count": null,
   "id": "564691f6",
   "metadata": {},
   "outputs": [],
   "source": [
    "# b: all the cities, but without repetition.\n",
    "%%sql\n",
    "select DISTINCT cities from weather table"
   ]
  },
  {
   "cell_type": "code",
   "execution_count": null,
   "id": "0542a1b9",
   "metadata": {},
   "outputs": [],
   "source": [
    "#c all the records for INDIA\n",
    "%%sql\n",
    "select * from weatherTable where Country='India'"
   ]
  },
  {
   "cell_type": "code",
   "execution_count": null,
   "id": "d79e0a0b",
   "metadata": {},
   "outputs": [],
   "source": [
    "#d all the fall records\n",
    "%%sql\n",
    "select * from weatherTable where Season='Fall'"
   ]
  },
  {
   "cell_type": "code",
   "execution_count": null,
   "id": "7c7b8ee3",
   "metadata": {},
   "outputs": [],
   "source": [
    "#e the city, country for which the average rainfall is between 200 and 400 millimeters\n",
    "%%sql\n",
    "SELECT  City, Country, Season, AVG(Rainfall) FROM weatherTable \n",
    "GROUP BY Rainfall\n",
    "Having AVG(Rainfall) BETWEEN 200 AND 400;"
   ]
  },
  {
   "cell_type": "code",
   "execution_count": null,
   "id": "80a0a322",
   "metadata": {},
   "outputs": [],
   "source": [
    "#f The city and country for which the average Fall temperature is above 20 degrees, in increasing temperature order.\n",
    "%%sql\n",
    "select City, Country, AVG(Temperature) FROM weatherTable\n",
    "WHERE Season = 'Fall'  \n",
    "group by Temperature\n",
    "HAVING AVG(Temperature) > 20\n",
    "ORDER BY AVG(Temperature) ASC;"
   ]
  },
  {
   "cell_type": "code",
   "execution_count": null,
   "id": "55ef7976",
   "metadata": {},
   "outputs": [],
   "source": [
    "#g The total annual rainfall for Cairo.\n",
    "%%sql\n",
    "select City, SUM(Rainfall) FROM weatherTable where City='Cairo'"
   ]
  },
  {
   "cell_type": "code",
   "execution_count": null,
   "id": "598898ed",
   "metadata": {},
   "outputs": [],
   "source": [
    "#h The total rainfall for each season.\n",
    "%%sql\n",
    "select Season, SUM(Rainfall) FROM weatherTable\n",
    "group by Season"
   ]
  },
  {
   "cell_type": "markdown",
   "id": "fd5e766a",
   "metadata": {},
   "source": [
    "# Question 9\n",
    ". Suppose list words is defined as follows:\n",
    ">>> words = ['The', 'quick', 'brown', 'fox', 'jumps', 'over', \n",
    "'the', 'lazy', 'dog']\n",
    "Write list comprehension expressions that use list words and generate the following \n",
    "lists:\n",
    "a) ['THE', 'QUICK', 'BROWN', 'FOX', 'JUMPS', 'OVER', 'THE', \n",
    "'LAZY', 'DOG']\n",
    "b) ['the', 'quick', 'brown', 'fox', 'jumps', 'over', 'the', \n",
    "'lazy', 'dog']\n",
    "c) [3, 5, 5, 3, 5, 4, 3, 4, 3] (the list of lengths of words in list \n",
    "words).\n",
    "d) [['THE', 'the', 3], ['QUICK', 'quick', 5], ['BROWN', \n",
    "'brown', 5], ['FOX', 'fox', 3], ['JUMPS', 'jumps', 5], \n",
    "['OVER', 'over', 4], ['THE', 'the', 3], ['LAZY', 'lazy', \n",
    "4], ['DOG', 'dog', 3]] (the list containing a list for every word of list \n",
    "words, where each list contains the word in uppercase and lowercase and the \n",
    "length of the word.)\n",
    "e) ['The', 'quick', 'brown', 'fox', 'jumps', 'over', 'the', \n",
    "'lazy', 'dog'] (the list of words in list words containing 4 or more \n",
    "characters."
   ]
  },
  {
   "cell_type": "code",
   "execution_count": 14,
   "id": "41d24f8f",
   "metadata": {},
   "outputs": [
    {
     "name": "stdout",
     "output_type": "stream",
     "text": [
      "a: converting in upper case letters\n",
      "output =\n",
      " ['THE', 'QUICK', 'BROWN', 'FOX', 'JUMPS', 'OVER', 'THE', 'LAZY', 'DOG']\n",
      "\n",
      "\n",
      "b:Converting words in lower case letters\n",
      "output =\n",
      " ['the', 'quick', 'brown', 'fox', 'jumps', 'over', 'the', 'lazy', 'dog']\n",
      "\n",
      "\n",
      "c:calculating the length of words \n",
      "output =\n",
      " [3, 5, 5, 3, 5, 4, 3, 4, 3]\n",
      "\n",
      "\n",
      "d: list contains the word in uppercase ,lowercase and then length of the word\n",
      "output=\n",
      " [['THE', 'the', 3], ['QUICK', 'quick', 5], ['BROWN', 'brown', 5], ['FOX', 'fox', 3], ['JUMPS', 'jumps', 5], ['OVER', 'over', 4], ['THE', 'the', 3], ['LAZY', 'lazy', 4], ['DOG', 'dog', 3]]\n",
      "\n",
      "\n",
      "e: finding the list of words in list words containing 4 or more characters in it\n",
      "output=\n",
      " ['quick', 'brown', 'jumps', 'over', 'lazy']\n"
     ]
    }
   ],
   "source": [
    "words = [\"The\", \"quick\", \"brown\", \"fox\", \"jumps\", \"over\", \"the\", \"lazy\", \"dog\"]\n",
    "\n",
    "print('a: converting in upper case letters')\n",
    "UpperWords = [word.upper() for word in words]\n",
    "print(\"output =\\n\",UpperWords)\n",
    "print(\"\\n\")\n",
    "\n",
    "\n",
    "print('b:Converting words in lower case letters')\n",
    "\n",
    "LowerWords = [word.lower() for word in words]\n",
    "print(\"output =\\n\",LowerWords)\n",
    "print(\"\\n\")\n",
    "\n",
    "\n",
    "print('c:calculating the length of words ')\n",
    "LengthWords = []\n",
    "for w in words:\n",
    "    LengthWords.append(len(w))     \n",
    "print(\"output =\\n\",LengthWords)\n",
    "print(\"\\n\")\n",
    "\n",
    "print('d: list contains the word in uppercase ,lowercase and then length of the word')\n",
    "\n",
    "initializeCounterValue = 0\n",
    "single_List_Array = []\n",
    "    \n",
    "for j in words:\n",
    "    single_List_Array.append(UpperWords[initializeCounterValue])\n",
    "    single_List_Array.append(LowerWords[initializeCounterValue])\n",
    "    single_List_Array.append(LengthWords[initializeCounterValue])\n",
    "    initializeCounterValue = initializeCounterValue + 1\n",
    "\n",
    "delimiterVariableLimit = 3\n",
    "resultArray = [single_List_Array[additor:additor+delimiterVariableLimit] for additor in range(0, len(single_List_Array), delimiterVariableLimit)]\n",
    "print(\"output=\\n\",resultArray)\n",
    "print(\"\\n\")\n",
    "\n",
    "      \n",
    "print('e: finding the list of words in list words containing 4 or more characters in it')\n",
    "\n",
    "def wordString(k, str):    \n",
    "    string = []     \n",
    "    text = str.split(\" \")     \n",
    "    for x in text:         \n",
    "        if len(x) >= k:            \n",
    "            string.append(x)             \n",
    "    return string\n",
    "    \n",
    "result_list = [''.join([str(c) for c in lst]) for lst in words]\n",
    "result_string = ' '.join(result_list)\n",
    "requiredCharacterLength = 4\n",
    "print(\"output=\\n\",wordString(requiredCharacterLength, result_string))"
   ]
  },
  {
   "cell_type": "code",
   "execution_count": null,
   "id": "b279ea6e",
   "metadata": {},
   "outputs": [],
   "source": []
  }
 ],
 "metadata": {
  "kernelspec": {
   "display_name": "Python 3 (ipykernel)",
   "language": "python",
   "name": "python3"
  },
  "language_info": {
   "codemirror_mode": {
    "name": "ipython",
    "version": 3
   },
   "file_extension": ".py",
   "mimetype": "text/x-python",
   "name": "python",
   "nbconvert_exporter": "python",
   "pygments_lexer": "ipython3",
   "version": "3.9.13"
  }
 },
 "nbformat": 4,
 "nbformat_minor": 5
}
